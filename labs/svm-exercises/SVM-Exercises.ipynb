{
 "cells": [
  {
   "cell_type": "markdown",
   "metadata": {},
   "source": [
    "## Support Vector Machines. Parameters and Kernels.\n",
    "\n",
    "Material from Udacity's Self Driving Cars Nanodegree, Term 1, Lesson 15: Support Vector Machines"
   ]
  },
  {
   "cell_type": "code",
   "execution_count": 1,
   "metadata": {
    "collapsed": true
   },
   "outputs": [],
   "source": [
    "from class_vis import prettyPicture\n",
    "from prep_terrain_data import makeTerrainData\n",
    "\n",
    "import matplotlib.pyplot as plt\n",
    "import numpy as np\n",
    "import pylab as pl"
   ]
  },
  {
   "cell_type": "code",
   "execution_count": 2,
   "metadata": {
    "collapsed": true
   },
   "outputs": [],
   "source": [
    "# Get some sample data\n",
    "features_train, labels_train, features_test, labels_test = makeTerrainData()"
   ]
  },
  {
   "cell_type": "code",
   "execution_count": 41,
   "metadata": {
    "collapsed": true
   },
   "outputs": [],
   "source": [
    "from sklearn.svm import SVC\n",
    "\n",
    "# Define the SVM\n",
    "clf = SVC(kernel=\"rbf\")\n",
    "\n",
    "# Train the SVM\n",
    "clf.fit(features_train, labels_train)\n",
    "\n",
    "# Make predictions\n",
    "pred = clf.predict(features_test)"
   ]
  },
  {
   "cell_type": "code",
   "execution_count": 37,
   "metadata": {},
   "outputs": [
    {
     "name": "stdout",
     "output_type": "stream",
     "text": [
      "0.928\n"
     ]
    }
   ],
   "source": [
    "from sklearn.metrics import accuracy_score\n",
    "\n",
    "# Calculate accuracy of predictions\n",
    "acc = accuracy_score(pred, labels_test)\n",
    "# acc = clf.score(features_test, labels_test)\n",
    "\n",
    "print(acc)"
   ]
  },
  {
   "cell_type": "code",
   "execution_count": 42,
   "metadata": {},
   "outputs": [
    {
     "data": {
      "image/png": "[encoded data removed]",
      "text/plain": [
       "<matplotlib.figure.Figure at 0x29194e74a20>"
      ]
     },
     "metadata": {},
     "output_type": "display_data"
    }
   ],
   "source": [
    "%matplotlib inline\n",
    "\n",
    "# Print the decision boundary\n",
    "prettyPicture(clf, features_test, labels_test)"
   ]
  },
  {
   "cell_type": "markdown",
   "metadata": {
    "collapsed": true
   },
   "source": [
    "### What does the C parameter do?\n",
    "Controls the tradeoff between **smooth decision boundary** and **classifying training points correctly**.\n",
    "i.e. Penalty parameter C of the error term.\n",
    "\n",
    "That means that, as we increase the value of C, the boundary is going to try to separate the data points better and better, minimizing the error. This has the risk of overfitting and reducing the generalization of the model. On the other hand, if C is low, the boundary will have a smoother shape, helping with the generalization of the model."
   ]
  },
  {
   "cell_type": "markdown",
   "metadata": {},
   "source": [
    "### What does the Gamma parameter do?\n",
    "Defines how far the influence of a single training example reaches.\n",
    "\n",
    "Low values - every point has a far reach.\n",
    "High values - each training example has a close reach.\n",
    "\n",
    "i.e. for high values, the data points closer to the decision boundary have a higher weight in influencing its shape, compared to the data points that are farther away, hence the shape of it will be more wiggly. For low values, the points farther away also have a higher weight in influencing the shape of the decision boundary, hence the shape of it will be smoother."
   ]
  },
  {
   "cell_type": "markdown",
   "metadata": {},
   "source": [
    "### Overfitting\n",
    "All parameters (**C** and **Gamma**) and the Kernel as well can contribute to overfitting the model."
   ]
  },
  {
   "cell_type": "markdown",
   "metadata": {},
   "source": [
    "### SVM Strenghts and Weaknesses\n",
    "#### Positives\n",
    "* Complicated domains with clear margin of separation\n",
    "\n",
    "#### Negatives\n",
    "* Don't perform well in very large datasets\n",
    "* Don't perform well with lots of noise (i.e. when the classes are overlapping) - *this is when a Naives Bayes model would be better*\n",
    "\n",
    "*Notes*\n",
    "- if dataset is large, with lots of features, SVMs might be slow (unless properly tweaked through params), or prone to overfitting."
   ]
  },
  {
   "cell_type": "markdown",
   "metadata": {},
   "source": [
    "### Conclusion\n",
    "Always test multiple algorithms because the best answer will always depend both on the choice of parameters but also on the structure of the data (size of the data set, number of classes)."
   ]
  },
  {
   "cell_type": "markdown",
   "metadata": {},
   "source": [
    "### Resources\n",
    "Additional resources that one might find useful / interesting after these exercises:\n",
    "* https://stats.stackexchange.com/questions/58214/when-does-naive-bayes-perform-better-than-svm\n",
    "* https://www.quora.com/What-are-Kernels-in-Machine-Learning-and-SVM\n",
    "* https://en.wikipedia.org/wiki/Radial_basis_function_kernel\n",
    "* https://www.quora.com/What-are-C-and-gamma-with-regards-to-a-support-vector-machine"
   ]
  }
 ],
 "metadata": {
  "kernelspec": {
   "display_name": "Python 3",
   "language": "python",
   "name": "python3"
  },
  "language_info": {
   "codemirror_mode": {
    "name": "ipython",
    "version": 3
   },
   "file_extension": ".py",
   "mimetype": "text/x-python",
   "name": "python",
   "nbconvert_exporter": "python",
   "pygments_lexer": "ipython3",
   "version": "3.5.3"
  }
 },
 "nbformat": 4,
 "nbformat_minor": 2
}
